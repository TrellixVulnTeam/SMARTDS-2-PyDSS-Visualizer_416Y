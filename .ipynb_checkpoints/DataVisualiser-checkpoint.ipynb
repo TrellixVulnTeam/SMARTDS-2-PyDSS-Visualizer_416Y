{
 "cells": [
  {
   "cell_type": "code",
   "execution_count": 1,
   "id": "c818471a",
   "metadata": {
    "scrolled": true
   },
   "outputs": [],
   "source": [
    "from ditto.readers.cyme.read import Reader\n",
    "from ditto.writers.opendss.write import Writer\n",
    "from ditto.store import Store\n",
    "import PyDSS\n",
    "from PyDSS.cli.pydss import run\n",
    "import toml\n",
    "import os"
   ]
  },
  {
   "cell_type": "code",
   "execution_count": 20,
   "id": "ab431d42",
   "metadata": {},
   "outputs": [
    {
     "data": {
      "text/plain": [
       "'\\nThis is Ditto stuff, it currently is not updated and doesn\\'t work, I believe Tarek is working on it\\n\\nmodel = Store()\\ncurrent_directory = \\'/DS_Converter_Visualizer/CymeData/SmartDS_SFOP1U_bp\\'\\ncyme_reader = Reader(data_folder_path=os.path.join(current_directory))\\n\\ncyme_reader.parse(model)\\n\\nopendss_writer = Writer(output_path=\"/DS_Converter_Visualizer/pydss-projects/my-project/DSSfiles/cymeToDssConversionFiles\")\\n\\nopendss_writer.write(model)\\n'"
      ]
     },
     "execution_count": 20,
     "metadata": {},
     "output_type": "execute_result"
    }
   ],
   "source": [
    "\"\"\"\n",
    "This is Ditto stuff, it currently is not updated and doesn't work, I believe Tarek is working on it\n",
    "\n",
    "model = Store()\n",
    "current_directory = '/DS_Converter_Visualizer/CymeData/SmartDS_SFOP1U_bp'\n",
    "cyme_reader = Reader(data_folder_path=os.path.join(current_directory))\n",
    "\n",
    "cyme_reader.parse(model)\n",
    "\n",
    "opendss_writer = Writer(output_path=\"/DS_Converter_Visualizer/pydss-projects/my-project/DSSfiles/cymeToDssConversionFiles\")\n",
    "\n",
    "opendss_writer.write(model)\n",
    "\"\"\""
   ]
  },
  {
   "cell_type": "code",
   "execution_count": 2,
   "id": "50ee2cf4",
   "metadata": {},
   "outputs": [],
   "source": [
    "Project = ['GSO_Industrial_Base_ihs0_idt629','GSO_Industrial_Medium_sol_ihs3_idt226','GSO_Rural_Base_rhs1_rdt137',\n",
    "                  'GSO_Rural_Medium_sol_rhs0_rdt1528','SFO_Urban_Base_p2uhs2_p2udt3761','SFO_Urban_Medium_sol_p2uhs12_udt4058']\n",
    "CurrentProject = Project[4] #change this value to change which project is being worked on"
   ]
  },
  {
   "cell_type": "code",
   "execution_count": 3,
   "id": "6762cdbe",
   "metadata": {},
   "outputs": [],
   "source": [
    "data = toml.load(f\"pydss-projects/{CurrentProject}/simulation.toml\") \n",
    "data['exports']['export_results']= True\n",
    "\n",
    "f = open(f\"pydss-projects/{CurrentProject}/simulation.toml\",'w')\n",
    "toml.dump(data, f)\n",
    "f.close()"
   ]
  },
  {
   "cell_type": "code",
   "execution_count": 4,
   "id": "3f541e9d",
   "metadata": {
    "scrolled": true
   },
   "outputs": [
    {
     "name": "stdout",
     "output_type": "stream",
     "text": [
      "The Project Should already exist\n"
     ]
    }
   ],
   "source": [
    "if os.path.exists(f'pydss-projects/{CurrentProject}'):\n",
    "  print('The Project Should already exist')\n",
    "else:\n",
    "    #you have to type in the {CurrentProject} manually because it's a CLI command\n",
    "    !pydss create-project --project=<CurrentProject> --scenarios=\"scenario1,scenario2\" --path=./pydss-projects"
   ]
  },
  {
   "cell_type": "code",
   "execution_count": 5,
   "id": "1230df69",
   "metadata": {
    "scrolled": true
   },
   "outputs": [
    {
     "name": "stdout",
     "output_type": "stream",
     "text": [
      "Created pydss-projects\\SFO_Urban_Base_p2uhs2_p2udt3761\\simulation-run.toml\n",
      "Created pydss-projects\\SFO_Urban_Base_p2uhs2_p2udt3761\\Scenarios\\scenario1\\simulation-run.toml\n"
     ]
    },
    {
     "name": "stderr",
     "output_type": "stream",
     "text": [
      "2022-07-26 16:06:48,868 - INFO [PyDSS.cli.run run.py:96] : CLI: [pydss run pydss-projects/SFO_Urban_Base_p2uhs2_p2udt3761]\n",
      "2022-07-26 16:06:48,889 - INFO [PyDSS.dssInstance dssInstance.py:91] : An instance of OpenDSS version 0.6.1 has been created.\n",
      "2022-07-26 16:06:48,891 - INFO [PyDSS.dssInstance dssInstance.py:169] : Loading OpenDSS model\n",
      "2022-07-26 16:07:19,402 - INFO [PyDSS.dssInstance dssInstance.py:177] : OpenDSS:  \n",
      "2022-07-26 16:07:19,402 - INFO [PyDSS.dssInstance dssInstance.py:103] : OpenDSS fundamental frequency set to :  60.0 Hz\n",
      "2022-07-26 16:07:19,403 - INFO [PyDSS.modes.solver_base solver_base.py:39] : SimulationType.QSTS solver setup complete\n",
      "2022-07-26 16:07:19,575 - INFO [PyDSS.dssInstance dssInstance.py:161] : Simulation initialization complete\n",
      "2022-07-26 16:07:19,578 - INFO [PyDSS.pyDSS pyDSS.py:88] : Running scenario: scenario1\n",
      "2022-07-26 16:07:19,579 - INFO [PyDSS.dssInstance dssInstance.py:470] : Running simulation from 2020-01-01 00:00:00 till 2020-01-02 00:00:00.\n",
      "2022-07-26 16:07:19,579 - INFO [PyDSS.dssInstance dssInstance.py:471] : Simulation time step 96.\n",
      "2022-07-26 16:07:19,580 - INFO [PyDSS.dssInstance dssInstance.py:472] : Set OpenDSS convergence to 0.001\n",
      "2022-07-26 16:07:19,581 - INFO [PyDSS.dssInstance dssInstance.py:473] : Max convergence error count None.\n",
      "2022-07-26 16:07:19,581 - INFO [PyDSS.dssInstance dssInstance.py:474] : initializing store\n",
      "2022-07-26 16:07:19,596 - INFO [PyDSS.dssInstance dssInstance.py:490] : No post processing script selected\n",
      "2022-07-26 16:07:19,596 - INFO [PyDSS.dssInstance dssInstance.py:354] : PyDSS datetime - 2020-01-01 00:00:00\n",
      "2022-07-26 16:07:19,597 - INFO [PyDSS.dssInstance dssInstance.py:355] : OpenDSS time [h] - 0.25\n",
      "2022-07-26 16:07:19,597 - INFO [PyDSS.dssInstance dssInstance.py:511] : Storage requirement estimation: 0.00 B, estimated based on first time step run.\n",
      "2022-07-26 16:07:19,798 - INFO [PyDSS.dssInstance dssInstance.py:354] : PyDSS datetime - 2020-01-01 00:15:00\n",
      "2022-07-26 16:07:19,798 - INFO [PyDSS.dssInstance dssInstance.py:355] : OpenDSS time [h] - 0.5\n",
      "2022-07-26 16:07:19,870 - INFO [PyDSS.dssInstance dssInstance.py:354] : PyDSS datetime - 2020-01-01 00:30:00\n",
      "2022-07-26 16:07:19,870 - INFO [PyDSS.dssInstance dssInstance.py:355] : OpenDSS time [h] - 0.75\n",
      "2022-07-26 16:07:19,932 - INFO [PyDSS.dssInstance dssInstance.py:354] : PyDSS datetime - 2020-01-01 00:45:00\n",
      "2022-07-26 16:07:19,932 - INFO [PyDSS.dssInstance dssInstance.py:355] : OpenDSS time [h] - 1.0\n",
      "2022-07-26 16:07:20,000 - INFO [PyDSS.dssInstance dssInstance.py:354] : PyDSS datetime - 2020-01-01 01:00:00\n",
      "2022-07-26 16:07:20,000 - INFO [PyDSS.dssInstance dssInstance.py:355] : OpenDSS time [h] - 1.25\n",
      "2022-07-26 16:07:20,065 - INFO [PyDSS.dssInstance dssInstance.py:354] : PyDSS datetime - 2020-01-01 01:15:00\n",
      "2022-07-26 16:07:20,065 - INFO [PyDSS.dssInstance dssInstance.py:355] : OpenDSS time [h] - 1.5\n",
      "2022-07-26 16:07:20,120 - INFO [PyDSS.dssInstance dssInstance.py:354] : PyDSS datetime - 2020-01-01 01:30:00\n",
      "2022-07-26 16:07:20,120 - INFO [PyDSS.dssInstance dssInstance.py:355] : OpenDSS time [h] - 1.75\n",
      "2022-07-26 16:07:20,192 - INFO [PyDSS.dssInstance dssInstance.py:354] : PyDSS datetime - 2020-01-01 01:45:00\n",
      "2022-07-26 16:07:20,192 - INFO [PyDSS.dssInstance dssInstance.py:355] : OpenDSS time [h] - 2.0\n",
      "2022-07-26 16:07:20,258 - INFO [PyDSS.dssInstance dssInstance.py:354] : PyDSS datetime - 2020-01-01 02:00:00\n",
      "2022-07-26 16:07:20,259 - INFO [PyDSS.dssInstance dssInstance.py:355] : OpenDSS time [h] - 2.25\n",
      "2022-07-26 16:07:20,326 - INFO [PyDSS.dssInstance dssInstance.py:354] : PyDSS datetime - 2020-01-01 02:15:00\n",
      "2022-07-26 16:07:20,327 - INFO [PyDSS.dssInstance dssInstance.py:355] : OpenDSS time [h] - 2.5\n",
      "2022-07-26 16:07:20,396 - INFO [PyDSS.dssInstance dssInstance.py:354] : PyDSS datetime - 2020-01-01 02:30:00\n",
      "2022-07-26 16:07:20,397 - INFO [PyDSS.dssInstance dssInstance.py:355] : OpenDSS time [h] - 2.75\n",
      "2022-07-26 16:07:20,450 - INFO [PyDSS.dssInstance dssInstance.py:354] : PyDSS datetime - 2020-01-01 02:45:00\n",
      "2022-07-26 16:07:20,450 - INFO [PyDSS.dssInstance dssInstance.py:355] : OpenDSS time [h] - 3.0\n",
      "2022-07-26 16:07:20,512 - INFO [PyDSS.dssInstance dssInstance.py:354] : PyDSS datetime - 2020-01-01 03:00:00\n",
      "2022-07-26 16:07:20,512 - INFO [PyDSS.dssInstance dssInstance.py:355] : OpenDSS time [h] - 3.25\n",
      "2022-07-26 16:07:20,612 - INFO [PyDSS.dssInstance dssInstance.py:354] : PyDSS datetime - 2020-01-01 03:15:00\n",
      "2022-07-26 16:07:20,612 - INFO [PyDSS.dssInstance dssInstance.py:355] : OpenDSS time [h] - 3.5\n",
      "2022-07-26 16:07:20,708 - INFO [PyDSS.dssInstance dssInstance.py:354] : PyDSS datetime - 2020-01-01 03:30:00\n",
      "2022-07-26 16:07:20,708 - INFO [PyDSS.dssInstance dssInstance.py:355] : OpenDSS time [h] - 3.75\n",
      "2022-07-26 16:07:20,787 - INFO [PyDSS.dssInstance dssInstance.py:354] : PyDSS datetime - 2020-01-01 03:45:00\n",
      "2022-07-26 16:07:20,787 - INFO [PyDSS.dssInstance dssInstance.py:355] : OpenDSS time [h] - 4.0\n",
      "2022-07-26 16:07:20,846 - INFO [PyDSS.dssInstance dssInstance.py:354] : PyDSS datetime - 2020-01-01 04:00:00\n",
      "2022-07-26 16:07:20,846 - INFO [PyDSS.dssInstance dssInstance.py:355] : OpenDSS time [h] - 4.25\n",
      "2022-07-26 16:07:20,927 - INFO [PyDSS.dssInstance dssInstance.py:354] : PyDSS datetime - 2020-01-01 04:15:00\n",
      "2022-07-26 16:07:20,928 - INFO [PyDSS.dssInstance dssInstance.py:355] : OpenDSS time [h] - 4.5\n",
      "2022-07-26 16:07:21,027 - INFO [PyDSS.dssInstance dssInstance.py:354] : PyDSS datetime - 2020-01-01 04:30:00\n",
      "2022-07-26 16:07:21,028 - INFO [PyDSS.dssInstance dssInstance.py:355] : OpenDSS time [h] - 4.75\n",
      "2022-07-26 16:07:21,143 - INFO [PyDSS.dssInstance dssInstance.py:354] : PyDSS datetime - 2020-01-01 04:45:00\n",
      "2022-07-26 16:07:21,143 - INFO [PyDSS.dssInstance dssInstance.py:355] : OpenDSS time [h] - 5.0\n",
      "2022-07-26 16:07:21,206 - INFO [PyDSS.dssInstance dssInstance.py:354] : PyDSS datetime - 2020-01-01 05:00:00\n",
      "2022-07-26 16:07:21,206 - INFO [PyDSS.dssInstance dssInstance.py:355] : OpenDSS time [h] - 5.25\n",
      "2022-07-26 16:07:21,287 - INFO [PyDSS.dssInstance dssInstance.py:354] : PyDSS datetime - 2020-01-01 05:15:00\n",
      "2022-07-26 16:07:21,287 - INFO [PyDSS.dssInstance dssInstance.py:355] : OpenDSS time [h] - 5.5\n",
      "2022-07-26 16:07:21,349 - INFO [PyDSS.dssInstance dssInstance.py:354] : PyDSS datetime - 2020-01-01 05:30:00\n",
      "2022-07-26 16:07:21,349 - INFO [PyDSS.dssInstance dssInstance.py:355] : OpenDSS time [h] - 5.75\n",
      "2022-07-26 16:07:21,410 - INFO [PyDSS.dssInstance dssInstance.py:354] : PyDSS datetime - 2020-01-01 05:45:00\n",
      "2022-07-26 16:07:21,410 - INFO [PyDSS.dssInstance dssInstance.py:355] : OpenDSS time [h] - 6.0\n",
      "2022-07-26 16:07:21,501 - INFO [PyDSS.dssInstance dssInstance.py:354] : PyDSS datetime - 2020-01-01 06:00:00\n",
      "2022-07-26 16:07:21,501 - INFO [PyDSS.dssInstance dssInstance.py:355] : OpenDSS time [h] - 6.25\n",
      "2022-07-26 16:07:21,562 - INFO [PyDSS.dssInstance dssInstance.py:354] : PyDSS datetime - 2020-01-01 06:15:00\n",
      "2022-07-26 16:07:21,562 - INFO [PyDSS.dssInstance dssInstance.py:355] : OpenDSS time [h] - 6.5\n",
      "2022-07-26 16:07:21,674 - INFO [PyDSS.dssInstance dssInstance.py:354] : PyDSS datetime - 2020-01-01 06:30:00\n",
      "2022-07-26 16:07:21,674 - INFO [PyDSS.dssInstance dssInstance.py:355] : OpenDSS time [h] - 6.75\n",
      "2022-07-26 16:07:21,769 - INFO [PyDSS.dssInstance dssInstance.py:354] : PyDSS datetime - 2020-01-01 06:45:00\n",
      "2022-07-26 16:07:21,769 - INFO [PyDSS.dssInstance dssInstance.py:355] : OpenDSS time [h] - 7.0\n",
      "2022-07-26 16:07:21,827 - INFO [PyDSS.dssInstance dssInstance.py:354] : PyDSS datetime - 2020-01-01 07:00:00\n",
      "2022-07-26 16:07:21,827 - INFO [PyDSS.dssInstance dssInstance.py:355] : OpenDSS time [h] - 7.25\n",
      "2022-07-26 16:07:21,878 - INFO [PyDSS.dssInstance dssInstance.py:354] : PyDSS datetime - 2020-01-01 07:15:00\n",
      "2022-07-26 16:07:21,878 - INFO [PyDSS.dssInstance dssInstance.py:355] : OpenDSS time [h] - 7.5\n",
      "2022-07-26 16:07:21,955 - INFO [PyDSS.dssInstance dssInstance.py:354] : PyDSS datetime - 2020-01-01 07:30:00\n",
      "2022-07-26 16:07:21,955 - INFO [PyDSS.dssInstance dssInstance.py:355] : OpenDSS time [h] - 7.75\n",
      "2022-07-26 16:07:22,023 - INFO [PyDSS.dssInstance dssInstance.py:354] : PyDSS datetime - 2020-01-01 07:45:00\n",
      "2022-07-26 16:07:22,023 - INFO [PyDSS.dssInstance dssInstance.py:355] : OpenDSS time [h] - 8.0\n",
      "2022-07-26 16:07:22,075 - INFO [PyDSS.dssInstance dssInstance.py:354] : PyDSS datetime - 2020-01-01 08:00:00\n",
      "2022-07-26 16:07:22,075 - INFO [PyDSS.dssInstance dssInstance.py:355] : OpenDSS time [h] - 8.25\n",
      "2022-07-26 16:07:22,143 - INFO [PyDSS.dssInstance dssInstance.py:354] : PyDSS datetime - 2020-01-01 08:15:00\n",
      "2022-07-26 16:07:22,143 - INFO [PyDSS.dssInstance dssInstance.py:355] : OpenDSS time [h] - 8.5\n",
      "2022-07-26 16:07:22,196 - INFO [PyDSS.dssInstance dssInstance.py:354] : PyDSS datetime - 2020-01-01 08:30:00\n",
      "2022-07-26 16:07:22,197 - INFO [PyDSS.dssInstance dssInstance.py:355] : OpenDSS time [h] - 8.75\n",
      "2022-07-26 16:07:22,265 - INFO [PyDSS.dssInstance dssInstance.py:354] : PyDSS datetime - 2020-01-01 08:45:00\n",
      "2022-07-26 16:07:22,265 - INFO [PyDSS.dssInstance dssInstance.py:355] : OpenDSS time [h] - 9.0\n",
      "2022-07-26 16:07:22,321 - INFO [PyDSS.dssInstance dssInstance.py:354] : PyDSS datetime - 2020-01-01 09:00:00\n",
      "2022-07-26 16:07:22,322 - INFO [PyDSS.dssInstance dssInstance.py:355] : OpenDSS time [h] - 9.25\n",
      "2022-07-26 16:07:22,379 - INFO [PyDSS.dssInstance dssInstance.py:354] : PyDSS datetime - 2020-01-01 09:15:00\n",
      "2022-07-26 16:07:22,379 - INFO [PyDSS.dssInstance dssInstance.py:355] : OpenDSS time [h] - 9.5\n",
      "2022-07-26 16:07:22,437 - INFO [PyDSS.dssInstance dssInstance.py:354] : PyDSS datetime - 2020-01-01 09:30:00\n",
      "2022-07-26 16:07:22,437 - INFO [PyDSS.dssInstance dssInstance.py:355] : OpenDSS time [h] - 9.75\n",
      "2022-07-26 16:07:22,514 - INFO [PyDSS.dssInstance dssInstance.py:354] : PyDSS datetime - 2020-01-01 09:45:00\n",
      "2022-07-26 16:07:22,514 - INFO [PyDSS.dssInstance dssInstance.py:355] : OpenDSS time [h] - 10.0\n",
      "2022-07-26 16:07:22,591 - INFO [PyDSS.dssInstance dssInstance.py:354] : PyDSS datetime - 2020-01-01 10:00:00\n",
      "2022-07-26 16:07:22,591 - INFO [PyDSS.dssInstance dssInstance.py:355] : OpenDSS time [h] - 10.25\n",
      "2022-07-26 16:07:22,702 - INFO [PyDSS.dssInstance dssInstance.py:354] : PyDSS datetime - 2020-01-01 10:15:00\n",
      "2022-07-26 16:07:22,702 - INFO [PyDSS.dssInstance dssInstance.py:355] : OpenDSS time [h] - 10.5\n",
      "2022-07-26 16:07:22,784 - INFO [PyDSS.dssInstance dssInstance.py:354] : PyDSS datetime - 2020-01-01 10:30:00\n",
      "2022-07-26 16:07:22,784 - INFO [PyDSS.dssInstance dssInstance.py:355] : OpenDSS time [h] - 10.75\n",
      "2022-07-26 16:07:22,851 - INFO [PyDSS.dssInstance dssInstance.py:354] : PyDSS datetime - 2020-01-01 10:45:00\n",
      "2022-07-26 16:07:22,852 - INFO [PyDSS.dssInstance dssInstance.py:355] : OpenDSS time [h] - 11.0\n",
      "2022-07-26 16:07:22,911 - INFO [PyDSS.dssInstance dssInstance.py:354] : PyDSS datetime - 2020-01-01 11:00:00\n",
      "2022-07-26 16:07:22,912 - INFO [PyDSS.dssInstance dssInstance.py:355] : OpenDSS time [h] - 11.25\n",
      "2022-07-26 16:07:22,967 - INFO [PyDSS.dssInstance dssInstance.py:354] : PyDSS datetime - 2020-01-01 11:15:00\n",
      "2022-07-26 16:07:22,967 - INFO [PyDSS.dssInstance dssInstance.py:355] : OpenDSS time [h] - 11.5\n",
      "2022-07-26 16:07:23,161 - INFO [PyDSS.dssInstance dssInstance.py:354] : PyDSS datetime - 2020-01-01 11:30:00\n",
      "2022-07-26 16:07:23,162 - INFO [PyDSS.dssInstance dssInstance.py:355] : OpenDSS time [h] - 11.75\n",
      "2022-07-26 16:07:23,222 - INFO [PyDSS.dssInstance dssInstance.py:354] : PyDSS datetime - 2020-01-01 11:45:00\n",
      "2022-07-26 16:07:23,223 - INFO [PyDSS.dssInstance dssInstance.py:355] : OpenDSS time [h] - 12.0\n",
      "2022-07-26 16:07:23,306 - INFO [PyDSS.dssInstance dssInstance.py:354] : PyDSS datetime - 2020-01-01 12:00:00\n",
      "2022-07-26 16:07:23,306 - INFO [PyDSS.dssInstance dssInstance.py:355] : OpenDSS time [h] - 12.25\n",
      "2022-07-26 16:07:23,392 - INFO [PyDSS.dssInstance dssInstance.py:354] : PyDSS datetime - 2020-01-01 12:15:00\n",
      "2022-07-26 16:07:23,393 - INFO [PyDSS.dssInstance dssInstance.py:355] : OpenDSS time [h] - 12.5\n",
      "2022-07-26 16:07:23,478 - INFO [PyDSS.dssInstance dssInstance.py:354] : PyDSS datetime - 2020-01-01 12:30:00\n",
      "2022-07-26 16:07:23,478 - INFO [PyDSS.dssInstance dssInstance.py:355] : OpenDSS time [h] - 12.75\n",
      "2022-07-26 16:07:23,545 - INFO [PyDSS.dssInstance dssInstance.py:354] : PyDSS datetime - 2020-01-01 12:45:00\n",
      "2022-07-26 16:07:23,545 - INFO [PyDSS.dssInstance dssInstance.py:355] : OpenDSS time [h] - 13.0\n",
      "2022-07-26 16:07:23,640 - INFO [PyDSS.dssInstance dssInstance.py:354] : PyDSS datetime - 2020-01-01 13:00:00\n",
      "2022-07-26 16:07:23,640 - INFO [PyDSS.dssInstance dssInstance.py:355] : OpenDSS time [h] - 13.25\n",
      "2022-07-26 16:07:23,743 - INFO [PyDSS.dssInstance dssInstance.py:354] : PyDSS datetime - 2020-01-01 13:15:00\n",
      "2022-07-26 16:07:23,743 - INFO [PyDSS.dssInstance dssInstance.py:355] : OpenDSS time [h] - 13.5\n",
      "2022-07-26 16:07:23,809 - INFO [PyDSS.dssInstance dssInstance.py:354] : PyDSS datetime - 2020-01-01 13:30:00\n",
      "2022-07-26 16:07:23,809 - INFO [PyDSS.dssInstance dssInstance.py:355] : OpenDSS time [h] - 13.75\n",
      "2022-07-26 16:07:23,866 - INFO [PyDSS.dssInstance dssInstance.py:354] : PyDSS datetime - 2020-01-01 13:45:00\n",
      "2022-07-26 16:07:23,866 - INFO [PyDSS.dssInstance dssInstance.py:355] : OpenDSS time [h] - 14.0\n",
      "2022-07-26 16:07:23,931 - INFO [PyDSS.dssInstance dssInstance.py:354] : PyDSS datetime - 2020-01-01 14:00:00\n",
      "2022-07-26 16:07:23,931 - INFO [PyDSS.dssInstance dssInstance.py:355] : OpenDSS time [h] - 14.25\n",
      "2022-07-26 16:07:23,986 - INFO [PyDSS.dssInstance dssInstance.py:354] : PyDSS datetime - 2020-01-01 14:15:00\n",
      "2022-07-26 16:07:23,986 - INFO [PyDSS.dssInstance dssInstance.py:355] : OpenDSS time [h] - 14.5\n",
      "2022-07-26 16:07:24,077 - INFO [PyDSS.dssInstance dssInstance.py:354] : PyDSS datetime - 2020-01-01 14:30:00\n",
      "2022-07-26 16:07:24,077 - INFO [PyDSS.dssInstance dssInstance.py:355] : OpenDSS time [h] - 14.75\n",
      "2022-07-26 16:07:24,153 - INFO [PyDSS.dssInstance dssInstance.py:354] : PyDSS datetime - 2020-01-01 14:45:00\n",
      "2022-07-26 16:07:24,153 - INFO [PyDSS.dssInstance dssInstance.py:355] : OpenDSS time [h] - 15.0\n",
      "2022-07-26 16:07:24,250 - INFO [PyDSS.dssInstance dssInstance.py:354] : PyDSS datetime - 2020-01-01 15:00:00\n",
      "2022-07-26 16:07:24,250 - INFO [PyDSS.dssInstance dssInstance.py:355] : OpenDSS time [h] - 15.25\n",
      "2022-07-26 16:07:24,358 - INFO [PyDSS.dssInstance dssInstance.py:354] : PyDSS datetime - 2020-01-01 15:15:00\n",
      "2022-07-26 16:07:24,358 - INFO [PyDSS.dssInstance dssInstance.py:355] : OpenDSS time [h] - 15.5\n",
      "2022-07-26 16:07:24,442 - INFO [PyDSS.dssInstance dssInstance.py:354] : PyDSS datetime - 2020-01-01 15:30:00\n",
      "2022-07-26 16:07:24,443 - INFO [PyDSS.dssInstance dssInstance.py:355] : OpenDSS time [h] - 15.75\n",
      "2022-07-26 16:07:24,545 - INFO [PyDSS.dssInstance dssInstance.py:354] : PyDSS datetime - 2020-01-01 15:45:00\n",
      "2022-07-26 16:07:24,545 - INFO [PyDSS.dssInstance dssInstance.py:355] : OpenDSS time [h] - 16.0\n",
      "2022-07-26 16:07:24,654 - INFO [PyDSS.dssInstance dssInstance.py:354] : PyDSS datetime - 2020-01-01 16:00:00\n",
      "2022-07-26 16:07:24,654 - INFO [PyDSS.dssInstance dssInstance.py:355] : OpenDSS time [h] - 16.25\n",
      "2022-07-26 16:07:24,776 - INFO [PyDSS.dssInstance dssInstance.py:354] : PyDSS datetime - 2020-01-01 16:15:00\n",
      "2022-07-26 16:07:24,776 - INFO [PyDSS.dssInstance dssInstance.py:355] : OpenDSS time [h] - 16.5\n",
      "2022-07-26 16:07:24,901 - INFO [PyDSS.dssInstance dssInstance.py:354] : PyDSS datetime - 2020-01-01 16:30:00\n",
      "2022-07-26 16:07:24,901 - INFO [PyDSS.dssInstance dssInstance.py:355] : OpenDSS time [h] - 16.75\n",
      "2022-07-26 16:07:24,975 - INFO [PyDSS.dssInstance dssInstance.py:354] : PyDSS datetime - 2020-01-01 16:45:00\n",
      "2022-07-26 16:07:24,975 - INFO [PyDSS.dssInstance dssInstance.py:355] : OpenDSS time [h] - 17.0\n",
      "2022-07-26 16:07:25,033 - INFO [PyDSS.dssInstance dssInstance.py:354] : PyDSS datetime - 2020-01-01 17:00:00\n",
      "2022-07-26 16:07:25,034 - INFO [PyDSS.dssInstance dssInstance.py:355] : OpenDSS time [h] - 17.25\n",
      "2022-07-26 16:07:25,097 - INFO [PyDSS.dssInstance dssInstance.py:354] : PyDSS datetime - 2020-01-01 17:15:00\n",
      "2022-07-26 16:07:25,098 - INFO [PyDSS.dssInstance dssInstance.py:355] : OpenDSS time [h] - 17.5\n",
      "2022-07-26 16:07:25,177 - INFO [PyDSS.dssInstance dssInstance.py:354] : PyDSS datetime - 2020-01-01 17:30:00\n",
      "2022-07-26 16:07:25,178 - INFO [PyDSS.dssInstance dssInstance.py:355] : OpenDSS time [h] - 17.75\n",
      "2022-07-26 16:07:25,234 - INFO [PyDSS.dssInstance dssInstance.py:354] : PyDSS datetime - 2020-01-01 17:45:00\n",
      "2022-07-26 16:07:25,234 - INFO [PyDSS.dssInstance dssInstance.py:355] : OpenDSS time [h] - 18.0\n",
      "2022-07-26 16:07:25,309 - INFO [PyDSS.dssInstance dssInstance.py:354] : PyDSS datetime - 2020-01-01 18:00:00\n",
      "2022-07-26 16:07:25,309 - INFO [PyDSS.dssInstance dssInstance.py:355] : OpenDSS time [h] - 18.25\n",
      "2022-07-26 16:07:25,384 - INFO [PyDSS.dssInstance dssInstance.py:354] : PyDSS datetime - 2020-01-01 18:15:00\n",
      "2022-07-26 16:07:25,384 - INFO [PyDSS.dssInstance dssInstance.py:355] : OpenDSS time [h] - 18.5\n",
      "2022-07-26 16:07:25,463 - INFO [PyDSS.dssInstance dssInstance.py:354] : PyDSS datetime - 2020-01-01 18:30:00\n",
      "2022-07-26 16:07:25,464 - INFO [PyDSS.dssInstance dssInstance.py:355] : OpenDSS time [h] - 18.75\n",
      "2022-07-26 16:07:25,559 - INFO [PyDSS.dssInstance dssInstance.py:354] : PyDSS datetime - 2020-01-01 18:45:00\n",
      "2022-07-26 16:07:25,560 - INFO [PyDSS.dssInstance dssInstance.py:355] : OpenDSS time [h] - 19.0\n",
      "2022-07-26 16:07:25,646 - INFO [PyDSS.dssInstance dssInstance.py:354] : PyDSS datetime - 2020-01-01 19:00:00\n",
      "2022-07-26 16:07:25,646 - INFO [PyDSS.dssInstance dssInstance.py:355] : OpenDSS time [h] - 19.25\n",
      "2022-07-26 16:07:25,737 - INFO [PyDSS.dssInstance dssInstance.py:354] : PyDSS datetime - 2020-01-01 19:15:00\n",
      "2022-07-26 16:07:25,737 - INFO [PyDSS.dssInstance dssInstance.py:355] : OpenDSS time [h] - 19.5\n",
      "2022-07-26 16:07:25,801 - INFO [PyDSS.dssInstance dssInstance.py:354] : PyDSS datetime - 2020-01-01 19:30:00\n",
      "2022-07-26 16:07:25,801 - INFO [PyDSS.dssInstance dssInstance.py:355] : OpenDSS time [h] - 19.75\n",
      "2022-07-26 16:07:25,878 - INFO [PyDSS.dssInstance dssInstance.py:354] : PyDSS datetime - 2020-01-01 19:45:00\n",
      "2022-07-26 16:07:25,878 - INFO [PyDSS.dssInstance dssInstance.py:355] : OpenDSS time [h] - 20.0\n",
      "2022-07-26 16:07:25,951 - INFO [PyDSS.dssInstance dssInstance.py:354] : PyDSS datetime - 2020-01-01 20:00:00\n",
      "2022-07-26 16:07:25,951 - INFO [PyDSS.dssInstance dssInstance.py:355] : OpenDSS time [h] - 20.25\n",
      "2022-07-26 16:07:26,019 - INFO [PyDSS.dssInstance dssInstance.py:354] : PyDSS datetime - 2020-01-01 20:15:00\n",
      "2022-07-26 16:07:26,019 - INFO [PyDSS.dssInstance dssInstance.py:355] : OpenDSS time [h] - 20.5\n",
      "2022-07-26 16:07:26,076 - INFO [PyDSS.dssInstance dssInstance.py:354] : PyDSS datetime - 2020-01-01 20:30:00\n",
      "2022-07-26 16:07:26,076 - INFO [PyDSS.dssInstance dssInstance.py:355] : OpenDSS time [h] - 20.75\n",
      "2022-07-26 16:07:26,160 - INFO [PyDSS.dssInstance dssInstance.py:354] : PyDSS datetime - 2020-01-01 20:45:00\n",
      "2022-07-26 16:07:26,160 - INFO [PyDSS.dssInstance dssInstance.py:355] : OpenDSS time [h] - 21.0\n",
      "2022-07-26 16:07:26,226 - INFO [PyDSS.dssInstance dssInstance.py:354] : PyDSS datetime - 2020-01-01 21:00:00\n",
      "2022-07-26 16:07:26,226 - INFO [PyDSS.dssInstance dssInstance.py:355] : OpenDSS time [h] - 21.25\n",
      "2022-07-26 16:07:26,291 - INFO [PyDSS.dssInstance dssInstance.py:354] : PyDSS datetime - 2020-01-01 21:15:00\n",
      "2022-07-26 16:07:26,292 - INFO [PyDSS.dssInstance dssInstance.py:355] : OpenDSS time [h] - 21.5\n",
      "2022-07-26 16:07:26,366 - INFO [PyDSS.dssInstance dssInstance.py:354] : PyDSS datetime - 2020-01-01 21:30:00\n",
      "2022-07-26 16:07:26,366 - INFO [PyDSS.dssInstance dssInstance.py:355] : OpenDSS time [h] - 21.75\n",
      "2022-07-26 16:07:26,447 - INFO [PyDSS.dssInstance dssInstance.py:354] : PyDSS datetime - 2020-01-01 21:45:00\n",
      "2022-07-26 16:07:26,447 - INFO [PyDSS.dssInstance dssInstance.py:355] : OpenDSS time [h] - 22.0\n",
      "2022-07-26 16:07:26,507 - INFO [PyDSS.dssInstance dssInstance.py:354] : PyDSS datetime - 2020-01-01 22:00:00\n",
      "2022-07-26 16:07:26,507 - INFO [PyDSS.dssInstance dssInstance.py:355] : OpenDSS time [h] - 22.25\n",
      "2022-07-26 16:07:26,567 - INFO [PyDSS.dssInstance dssInstance.py:354] : PyDSS datetime - 2020-01-01 22:15:00\n",
      "2022-07-26 16:07:26,567 - INFO [PyDSS.dssInstance dssInstance.py:355] : OpenDSS time [h] - 22.5\n",
      "2022-07-26 16:07:26,624 - INFO [PyDSS.dssInstance dssInstance.py:354] : PyDSS datetime - 2020-01-01 22:30:00\n",
      "2022-07-26 16:07:26,624 - INFO [PyDSS.dssInstance dssInstance.py:355] : OpenDSS time [h] - 22.75\n",
      "2022-07-26 16:07:26,727 - INFO [PyDSS.dssInstance dssInstance.py:354] : PyDSS datetime - 2020-01-01 22:45:00\n",
      "2022-07-26 16:07:26,728 - INFO [PyDSS.dssInstance dssInstance.py:355] : OpenDSS time [h] - 23.0\n",
      "2022-07-26 16:07:26,938 - INFO [PyDSS.dssInstance dssInstance.py:354] : PyDSS datetime - 2020-01-01 23:00:00\n",
      "2022-07-26 16:07:26,939 - INFO [PyDSS.dssInstance dssInstance.py:355] : OpenDSS time [h] - 23.25\n",
      "2022-07-26 16:07:26,994 - INFO [PyDSS.dssInstance dssInstance.py:354] : PyDSS datetime - 2020-01-01 23:15:00\n",
      "2022-07-26 16:07:26,995 - INFO [PyDSS.dssInstance dssInstance.py:355] : OpenDSS time [h] - 23.5\n",
      "2022-07-26 16:07:27,054 - INFO [PyDSS.dssInstance dssInstance.py:354] : PyDSS datetime - 2020-01-01 23:30:00\n",
      "2022-07-26 16:07:27,055 - INFO [PyDSS.dssInstance dssInstance.py:355] : OpenDSS time [h] - 23.75\n",
      "2022-07-26 16:07:27,120 - INFO [PyDSS.dssInstance dssInstance.py:354] : PyDSS datetime - 2020-01-01 23:45:00\n",
      "2022-07-26 16:07:27,121 - INFO [PyDSS.dssInstance dssInstance.py:355] : OpenDSS time [h] - 24.0\n",
      "2022-07-26 16:07:27,328 - INFO [PyDSS.ResultData ResultData.py:291] : Exported OpenDSS event log to event_log.csv\n",
      "2022-07-26 16:07:27,333 - INFO [PyDSS.ResultData ResultData.py:406] : Exported CapacitorsInfo information to pydss-projects\\SFO_Urban_Base_p2uhs2_p2udt3761\\Exports\\scenario1\\CapacitorsInfo.csv.\n",
      "2022-07-26 16:07:27,337 - INFO [PyDSS.ResultData ResultData.py:406] : Exported FusesInfo information to pydss-projects\\SFO_Urban_Base_p2uhs2_p2udt3761\\Exports\\scenario1\\FusesInfo.csv.\n",
      "2022-07-26 16:07:27,340 - INFO [PyDSS.ResultData ResultData.py:406] : Exported GeneratorsInfo information to pydss-projects\\SFO_Urban_Base_p2uhs2_p2udt3761\\Exports\\scenario1\\GeneratorsInfo.csv.\n",
      "2022-07-26 16:07:27,344 - INFO [PyDSS.ResultData ResultData.py:406] : Exported IsourceInfo information to pydss-projects\\SFO_Urban_Base_p2uhs2_p2udt3761\\Exports\\scenario1\\IsourceInfo.csv.\n",
      "2022-07-26 16:07:27,450 - INFO [PyDSS.ResultData ResultData.py:406] : Exported LinesInfo information to pydss-projects\\SFO_Urban_Base_p2uhs2_p2udt3761\\Exports\\scenario1\\LinesInfo.csv.\n",
      "2022-07-26 16:07:27,513 - INFO [PyDSS.ResultData ResultData.py:406] : Exported LoadsInfo information to pydss-projects\\SFO_Urban_Base_p2uhs2_p2udt3761\\Exports\\scenario1\\LoadsInfo.csv.\n",
      "2022-07-26 16:07:27,517 - INFO [PyDSS.ResultData ResultData.py:406] : Exported MonitorsInfo information to pydss-projects\\SFO_Urban_Base_p2uhs2_p2udt3761\\Exports\\scenario1\\MonitorsInfo.csv.\n",
      "2022-07-26 16:07:27,520 - INFO [PyDSS.ResultData ResultData.py:406] : Exported PVSystemsInfo information to pydss-projects\\SFO_Urban_Base_p2uhs2_p2udt3761\\Exports\\scenario1\\PVSystemsInfo.csv.\n",
      "2022-07-26 16:07:27,523 - INFO [PyDSS.ResultData ResultData.py:406] : Exported ReclosersInfo information to pydss-projects\\SFO_Urban_Base_p2uhs2_p2udt3761\\Exports\\scenario1\\ReclosersInfo.csv.\n",
      "2022-07-26 16:07:27,527 - INFO [PyDSS.ResultData ResultData.py:406] : Exported RegControlsInfo information to pydss-projects\\SFO_Urban_Base_p2uhs2_p2udt3761\\Exports\\scenario1\\RegControlsInfo.csv.\n",
      "2022-07-26 16:07:27,530 - INFO [PyDSS.ResultData ResultData.py:406] : Exported RelaysInfo information to pydss-projects\\SFO_Urban_Base_p2uhs2_p2udt3761\\Exports\\scenario1\\RelaysInfo.csv.\n",
      "2022-07-26 16:07:27,534 - INFO [PyDSS.ResultData ResultData.py:406] : Exported SensorsInfo information to pydss-projects\\SFO_Urban_Base_p2uhs2_p2udt3761\\Exports\\scenario1\\SensorsInfo.csv.\n",
      "2022-07-26 16:07:27,573 - INFO [PyDSS.ResultData ResultData.py:406] : Exported TransformersInfo information to pydss-projects\\SFO_Urban_Base_p2uhs2_p2udt3761\\Exports\\scenario1\\TransformersInfo.csv.\n",
      "2022-07-26 16:07:27,578 - INFO [PyDSS.ResultData ResultData.py:406] : Exported VsourcesInfo information to pydss-projects\\SFO_Urban_Base_p2uhs2_p2udt3761\\Exports\\scenario1\\VsourcesInfo.csv.\n",
      "2022-07-26 16:07:27,581 - INFO [PyDSS.ResultData ResultData.py:406] : Exported XYCurvesInfo information to pydss-projects\\SFO_Urban_Base_p2uhs2_p2udt3761\\Exports\\scenario1\\XYCurvesInfo.csv.\n",
      "2022-07-26 16:07:27,586 - INFO [PyDSS.ResultData ResultData.py:429] : Exported transformer phase information to pydss-projects\\SFO_Urban_Base_p2uhs2_p2udt3761\\Exports\\scenario1\\TransformersPhaseInfo.csv\n",
      "2022-07-26 16:07:27,589 - INFO [PyDSS.ResultData ResultData.py:364] : Exported FeederHeadInfo information to pydss-projects\\SFO_Urban_Base_p2uhs2_p2udt3761\\Exports\\scenario1\\FeederHeadInfo.json.\n",
      "2022-07-26 16:07:27,590 - INFO [PyDSS.ResultData ResultData.py:269] : Exported metadata to pydss-projects\\SFO_Urban_Base_p2uhs2_p2udt3761\\Exports\\scenario1\\metadata.json\n",
      "2022-07-26 16:07:27,591 - INFO [PyDSS.utils.timing_utils timing_utils.py:91] : TimerStats summary: OpenDSS._CompileModel: total=30.512s avg=30511.672ms max=30511.672ms min=30511.672ms count=1\n",
      "2022-07-26 16:07:27,591 - INFO [PyDSS.utils.timing_utils timing_utils.py:91] : TimerStats summary: QSTS.reSolve: total=0.006s avg=3.023ms max=5.784ms min=0.262ms count=2\n",
      "2022-07-26 16:07:27,591 - INFO [PyDSS.utils.timing_utils timing_utils.py:91] : TimerStats summary: OpenDSS.RunStep: total=0.053s avg=0.554ms max=0.799ms min=0.419ms count=96\n",
      "2022-07-26 16:07:27,591 - INFO [PyDSS.utils.timing_utils timing_utils.py:91] : TimerStats summary: UpdateControllers: total=0.002s avg=0.025ms max=0.039ms min=0.018ms count=96\n",
      "2022-07-26 16:07:27,591 - INFO [PyDSS.utils.timing_utils timing_utils.py:91] : TimerStats summary: ResultData.UpdateResults: total=7.534s avg=78.482ms max=209.215ms min=49.768ms count=96\n",
      "2022-07-26 16:07:27,592 - INFO [PyDSS.utils.timing_utils timing_utils.py:91] : TimerStats summary: Buses.puVmagAngle: total=1.319s avg=13.742ms max=42.644ms min=8.580ms count=96\n",
      "2022-07-26 16:07:27,592 - INFO [PyDSS.utils.timing_utils timing_utils.py:91] : TimerStats summary: Buses.Distance: total=0.592s avg=6.165ms max=18.736ms min=3.947ms count=96\n",
      "2022-07-26 16:07:27,592 - INFO [PyDSS.utils.timing_utils timing_utils.py:91] : TimerStats summary: Circuits.TotalPower: total=0.013s avg=0.138ms max=4.922ms min=0.046ms count=96\n",
      "2022-07-26 16:07:27,592 - INFO [PyDSS.utils.timing_utils timing_utils.py:91] : TimerStats summary: Circuits.LineLosses: total=0.015s avg=0.157ms max=5.182ms min=0.067ms count=96\n",
      "2022-07-26 16:07:27,592 - INFO [PyDSS.utils.timing_utils timing_utils.py:91] : TimerStats summary: Circuits.Losses: total=0.015s avg=0.152ms max=5.276ms min=0.060ms count=96\n",
      "2022-07-26 16:07:27,592 - INFO [PyDSS.utils.timing_utils timing_utils.py:91] : TimerStats summary: Circuits.SubstationLosses: total=0.010s avg=0.101ms max=4.931ms min=0.024ms count=96\n",
      "2022-07-26 16:07:27,592 - INFO [PyDSS.utils.timing_utils timing_utils.py:91] : TimerStats summary: Lines.Currents: total=1.264s avg=13.166ms max=54.244ms min=7.782ms count=96\n",
      "2022-07-26 16:07:27,593 - INFO [PyDSS.utils.timing_utils timing_utils.py:91] : TimerStats summary: Lines.NormalAmps: total=0.471s avg=4.904ms max=10.430ms min=3.110ms count=96\n",
      "2022-07-26 16:07:27,593 - INFO [PyDSS.utils.timing_utils timing_utils.py:91] : TimerStats summary: Lines.VoltagesMagAng: total=1.347s avg=14.030ms max=66.719ms min=8.542ms count=96\n",
      "2022-07-26 16:07:27,593 - INFO [PyDSS.utils.timing_utils timing_utils.py:91] : TimerStats summary: Lines.CurrentsMagAng: total=1.354s avg=14.100ms max=46.738ms min=8.824ms count=96\n",
      "2022-07-26 16:07:27,593 - INFO [PyDSS.utils.timing_utils timing_utils.py:91] : TimerStats summary: Loads.Powers: total=0.565s avg=5.885ms max=46.596ms min=3.668ms count=96\n",
      "2022-07-26 16:07:27,593 - INFO [PyDSS.utils.timing_utils timing_utils.py:91] : TimerStats summary: Transformers.Currents: total=0.334s avg=3.480ms max=33.598ms min=2.072ms count=96\n",
      "2022-07-26 16:07:27,593 - INFO [PyDSS.utils.timing_utils timing_utils.py:91] : TimerStats summary: Transformers.NormalAmps: total=0.100s avg=1.040ms max=6.516ms min=0.634ms count=96\n",
      "2022-07-26 16:07:27,593 - INFO [PyDSS.utils.timing_utils timing_utils.py:91] : TimerStats summary: QSTS.IncStep: total=0.091s avg=0.951ms max=1.496ms min=0.735ms count=96\n",
      "2022-07-26 16:07:27,594 - INFO [PyDSS.dssInstance dssInstance.py:564] : Simulation completed in 8.01447343826294 seconds\n",
      "2022-07-26 16:07:27,594 - INFO [PyDSS.dssInstance dssInstance.py:565] : End of simulation\n",
      "2022-07-26 16:07:30,676 - INFO [PyDSS.pydss_results pydss_results.py:388] : Exported data to pydss-projects\\SFO_Urban_Base_p2uhs2_p2udt3761\\Exports\\scenario1\n"
     ]
    }
   ],
   "source": [
    "if os.path.exists(f'pydss-projects/{CurrentProject}/store.h5'):\n",
    "  os.remove(f'pydss-projects/{CurrentProject}/store.h5')\n",
    "#If it tells you store.h5 is currently being used, restart the kernel \n",
    "#you have to type in the {CurrentProject} manually because it's a CLI command\n",
    "!pydss run pydss-projects/SFO_Urban_Base_p2uhs2_p2udt3761 "
   ]
  },
  {
   "cell_type": "code",
   "execution_count": 6,
   "id": "29f40802",
   "metadata": {},
   "outputs": [
    {
     "data": {
      "text/html": [
       "<style>.container { width:100% !important; }</style>"
      ],
      "text/plain": [
       "<IPython.core.display.HTML object>"
      ]
     },
     "metadata": {},
     "output_type": "display_data"
    }
   ],
   "source": [
    "from PyDSS.apps.data_viewer import DataViewer\n",
    "from IPython.display import display, HTML, clear_output\n",
    "display(HTML(\"<style>.container { width:100% !important; }</style>\"))"
   ]
  },
  {
   "cell_type": "code",
   "execution_count": 7,
   "id": "f840f2f7",
   "metadata": {
    "scrolled": true
   },
   "outputs": [
    {
     "data": {
      "application/vnd.jupyter.widget-view+json": {
       "model_id": "a321890ec93049e4a402cf6e3bd702ee",
       "version_major": 2,
       "version_minor": 0
      },
      "text/plain": [
       "VBox(children=(HTML(value='<b>PyDSS Data Viewer</b>'), HBox(children=(Button(description='Load project', layou…"
      ]
     },
     "metadata": {},
     "output_type": "display_data"
    },
    {
     "ename": "InvalidConfiguration",
     "evalue": "HDFStore does not exist: /DS_Converter_Visualizer/pydss-projects\\GSO_Industrial_Base_ihs0_idt629\\store.h5",
     "output_type": "error",
     "traceback": [
      "\u001b[1;31m---------------------------------------------------------------------------\u001b[0m",
      "\u001b[1;31mInvalidConfiguration\u001b[0m                      Traceback (most recent call last)",
      "\u001b[1;32m~\\AppData\\Local\\Temp\\1\\ipykernel_1152\\1896882665.py\u001b[0m in \u001b[0;36m<module>\u001b[1;34m\u001b[0m\n\u001b[0;32m      1\u001b[0m \u001b[1;32mfor\u001b[0m \u001b[0mprojects\u001b[0m \u001b[1;32min\u001b[0m \u001b[0mrange\u001b[0m\u001b[1;33m(\u001b[0m\u001b[0mlen\u001b[0m\u001b[1;33m(\u001b[0m\u001b[0mProject\u001b[0m\u001b[1;33m)\u001b[0m\u001b[1;33m)\u001b[0m\u001b[1;33m:\u001b[0m\u001b[1;33m\u001b[0m\u001b[1;33m\u001b[0m\u001b[0m\n\u001b[1;32m----> 2\u001b[1;33m     \u001b[0mapp\u001b[0m \u001b[1;33m=\u001b[0m \u001b[0mDataViewer\u001b[0m\u001b[1;33m(\u001b[0m\u001b[0mproject_path\u001b[0m\u001b[1;33m=\u001b[0m\u001b[1;34mf\"/DS_Converter_Visualizer/pydss-projects/{Project[projects]}\"\u001b[0m\u001b[1;33m)\u001b[0m\u001b[1;33m\u001b[0m\u001b[1;33m\u001b[0m\u001b[0m\n\u001b[0m",
      "\u001b[1;32mC:\\DS_Converter_Visualizer\\PyDSS\\apps\\data_viewer.py\u001b[0m in \u001b[0;36m__init__\u001b[1;34m(self, **kwargs)\u001b[0m\n\u001b[0;32m     43\u001b[0m         \u001b[0mself\u001b[0m\u001b[1;33m.\u001b[0m\u001b[0m_display_widgets\u001b[0m\u001b[1;33m(\u001b[0m\u001b[1;33m)\u001b[0m\u001b[1;33m\u001b[0m\u001b[1;33m\u001b[0m\u001b[0m\n\u001b[0;32m     44\u001b[0m         \u001b[1;32mif\u001b[0m \u001b[0mself\u001b[0m\u001b[1;33m.\u001b[0m\u001b[0m_project_path_text\u001b[0m\u001b[1;33m.\u001b[0m\u001b[0mvalue\u001b[0m \u001b[1;33m!=\u001b[0m \u001b[1;34m\"\"\u001b[0m\u001b[1;33m:\u001b[0m\u001b[1;33m\u001b[0m\u001b[1;33m\u001b[0m\u001b[0m\n\u001b[1;32m---> 45\u001b[1;33m             \u001b[0mself\u001b[0m\u001b[1;33m.\u001b[0m\u001b[0m_on_load_project_click\u001b[0m\u001b[1;33m(\u001b[0m\u001b[1;32mNone\u001b[0m\u001b[1;33m)\u001b[0m\u001b[1;33m\u001b[0m\u001b[1;33m\u001b[0m\u001b[0m\n\u001b[0m\u001b[0;32m     46\u001b[0m         \u001b[0mself\u001b[0m\u001b[1;33m.\u001b[0m\u001b[0m_first_plot\u001b[0m \u001b[1;33m=\u001b[0m \u001b[1;32mTrue\u001b[0m\u001b[1;33m\u001b[0m\u001b[1;33m\u001b[0m\u001b[0m\n\u001b[0;32m     47\u001b[0m \u001b[1;33m\u001b[0m\u001b[0m\n",
      "\u001b[1;32mC:\\DS_Converter_Visualizer\\PyDSS\\apps\\data_viewer.py\u001b[0m in \u001b[0;36m_on_load_project_click\u001b[1;34m(self, _)\u001b[0m\n\u001b[0;32m    261\u001b[0m             \u001b[1;32mreturn\u001b[0m\u001b[1;33m\u001b[0m\u001b[1;33m\u001b[0m\u001b[0m\n\u001b[0;32m    262\u001b[0m \u001b[1;33m\u001b[0m\u001b[0m\n\u001b[1;32m--> 263\u001b[1;33m         \u001b[0mself\u001b[0m\u001b[1;33m.\u001b[0m\u001b[0m_results\u001b[0m \u001b[1;33m=\u001b[0m \u001b[0mPyDssResults\u001b[0m\u001b[1;33m(\u001b[0m\u001b[0mpath\u001b[0m\u001b[1;33m)\u001b[0m\u001b[1;33m\u001b[0m\u001b[1;33m\u001b[0m\u001b[0m\n\u001b[0m\u001b[0;32m    264\u001b[0m         \u001b[0mprint\u001b[0m\u001b[1;33m(\u001b[0m\u001b[0mpath\u001b[0m\u001b[1;33m)\u001b[0m\u001b[1;33m\u001b[0m\u001b[1;33m\u001b[0m\u001b[0m\n\u001b[0;32m    265\u001b[0m         \u001b[1;31m#print(self._results)\u001b[0m\u001b[1;33m\u001b[0m\u001b[1;33m\u001b[0m\u001b[1;33m\u001b[0m\u001b[0m\n",
      "\u001b[1;32mC:\\DS_Converter_Visualizer\\PyDSS\\pydss_results.py\u001b[0m in \u001b[0;36m__init__\u001b[1;34m(self, project_path, project, in_memory, frequency, mode)\u001b[0m\n\u001b[0;32m     63\u001b[0m         \u001b[0mself\u001b[0m\u001b[1;33m.\u001b[0m\u001b[0m_fs_intf\u001b[0m \u001b[1;33m=\u001b[0m \u001b[0mself\u001b[0m\u001b[1;33m.\u001b[0m\u001b[0m_project\u001b[0m\u001b[1;33m.\u001b[0m\u001b[0mfs_interface\u001b[0m\u001b[1;33m\u001b[0m\u001b[1;33m\u001b[0m\u001b[0m\n\u001b[0;32m     64\u001b[0m         \u001b[0mself\u001b[0m\u001b[1;33m.\u001b[0m\u001b[0m_scenarios\u001b[0m \u001b[1;33m=\u001b[0m \u001b[1;33m[\u001b[0m\u001b[1;33m]\u001b[0m\u001b[1;33m\u001b[0m\u001b[1;33m\u001b[0m\u001b[0m\n\u001b[1;32m---> 65\u001b[1;33m         \u001b[0mfilename\u001b[0m \u001b[1;33m=\u001b[0m \u001b[0mself\u001b[0m\u001b[1;33m.\u001b[0m\u001b[0m_project\u001b[0m\u001b[1;33m.\u001b[0m\u001b[0mget_hdf_store_filename\u001b[0m\u001b[1;33m(\u001b[0m\u001b[1;33m)\u001b[0m\u001b[1;33m\u001b[0m\u001b[1;33m\u001b[0m\u001b[0m\n\u001b[0m\u001b[0;32m     66\u001b[0m         \u001b[0mdriver\u001b[0m \u001b[1;33m=\u001b[0m \u001b[1;34m\"core\"\u001b[0m \u001b[1;32mif\u001b[0m \u001b[0min_memory\u001b[0m \u001b[1;32melse\u001b[0m \u001b[1;32mNone\u001b[0m\u001b[1;33m\u001b[0m\u001b[1;33m\u001b[0m\u001b[0m\n\u001b[0;32m     67\u001b[0m         \u001b[0mself\u001b[0m\u001b[1;33m.\u001b[0m\u001b[0m_hdf_store\u001b[0m \u001b[1;33m=\u001b[0m \u001b[0mh5py\u001b[0m\u001b[1;33m.\u001b[0m\u001b[0mFile\u001b[0m\u001b[1;33m(\u001b[0m\u001b[0mfilename\u001b[0m\u001b[1;33m,\u001b[0m \u001b[1;34m\"r\"\u001b[0m\u001b[1;33m,\u001b[0m \u001b[0mdriver\u001b[0m\u001b[1;33m=\u001b[0m\u001b[0mdriver\u001b[0m\u001b[1;33m)\u001b[0m\u001b[1;33m\u001b[0m\u001b[1;33m\u001b[0m\u001b[0m\n",
      "\u001b[1;32mC:\\DS_Converter_Visualizer\\PyDSS\\pydss_project.py\u001b[0m in \u001b[0;36mget_hdf_store_filename\u001b[1;34m(self)\u001b[0m\n\u001b[0;32m    140\u001b[0m         \u001b[0mfilename\u001b[0m \u001b[1;33m=\u001b[0m \u001b[0mos\u001b[0m\u001b[1;33m.\u001b[0m\u001b[0mpath\u001b[0m\u001b[1;33m.\u001b[0m\u001b[0mjoin\u001b[0m\u001b[1;33m(\u001b[0m\u001b[0mself\u001b[0m\u001b[1;33m.\u001b[0m\u001b[0m_project_dir\u001b[0m\u001b[1;33m,\u001b[0m \u001b[0mSTORE_FILENAME\u001b[0m\u001b[1;33m)\u001b[0m\u001b[1;33m\u001b[0m\u001b[1;33m\u001b[0m\u001b[0m\n\u001b[0;32m    141\u001b[0m         \u001b[1;32mif\u001b[0m \u001b[1;32mnot\u001b[0m \u001b[0mos\u001b[0m\u001b[1;33m.\u001b[0m\u001b[0mpath\u001b[0m\u001b[1;33m.\u001b[0m\u001b[0mexists\u001b[0m\u001b[1;33m(\u001b[0m\u001b[0mfilename\u001b[0m\u001b[1;33m)\u001b[0m\u001b[1;33m:\u001b[0m\u001b[1;33m\u001b[0m\u001b[1;33m\u001b[0m\u001b[0m\n\u001b[1;32m--> 142\u001b[1;33m             \u001b[1;32mraise\u001b[0m \u001b[0mInvalidConfiguration\u001b[0m\u001b[1;33m(\u001b[0m\u001b[1;34mf\"HDFStore does not exist: {filename}\"\u001b[0m\u001b[1;33m)\u001b[0m\u001b[1;33m\u001b[0m\u001b[1;33m\u001b[0m\u001b[0m\n\u001b[0m\u001b[0;32m    143\u001b[0m \u001b[1;33m\u001b[0m\u001b[0m\n\u001b[0;32m    144\u001b[0m         \u001b[1;32mreturn\u001b[0m \u001b[0mfilename\u001b[0m\u001b[1;33m\u001b[0m\u001b[1;33m\u001b[0m\u001b[0m\n",
      "\u001b[1;31mInvalidConfiguration\u001b[0m: HDFStore does not exist: /DS_Converter_Visualizer/pydss-projects\\GSO_Industrial_Base_ihs0_idt629\\store.h5"
     ]
    }
   ],
   "source": [
    "app = DataViewer(project_path=f\"/DS_Converter_Visualizer/pydss-projects/{CurrentProject\")"
   ]
  },
  {
   "cell_type": "code",
   "execution_count": null,
   "id": "110905e3",
   "metadata": {},
   "outputs": [],
   "source": []
  }
 ],
 "metadata": {
  "kernelspec": {
   "display_name": "Python 3 (ipykernel)",
   "language": "python",
   "name": "python3"
  },
  "language_info": {
   "codemirror_mode": {
    "name": "ipython",
    "version": 3
   },
   "file_extension": ".py",
   "mimetype": "text/x-python",
   "name": "python",
   "nbconvert_exporter": "python",
   "pygments_lexer": "ipython3",
   "version": "3.7.13"
  }
 },
 "nbformat": 4,
 "nbformat_minor": 5
}
